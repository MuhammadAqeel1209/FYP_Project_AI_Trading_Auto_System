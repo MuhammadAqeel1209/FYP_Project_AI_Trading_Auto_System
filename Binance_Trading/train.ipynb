{
 "cells": [
  {
   "cell_type": "code",
   "execution_count": null,
   "metadata": {},
   "outputs": [],
   "source": [
    "import pandas as pd\n",
    "from keras.models import Sequential  # type: ignore\n",
    "from keras.layers import LSTM, Dense  # type: ignore\n",
    "from sklearn.preprocessing import MinMaxScaler\n",
    "from sklearn.metrics import mean_squared_error, mean_absolute_error, r2_score\n",
    "import matplotlib.pyplot as plt\n",
    "%matplotlib inline\n",
    "import numpy as np"
   ]
  },
  {
   "cell_type": "code",
   "execution_count": null,
   "metadata": {},
   "outputs": [],
   "source": [
    "# Step 1: Load the dataset\n",
    "data = pd.read_csv('crypto_yearly_data.csv')"
   ]
  },
  {
   "cell_type": "code",
   "execution_count": null,
   "metadata": {},
   "outputs": [],
   "source": [
    "data.columns"
   ]
  },
  {
   "cell_type": "code",
   "execution_count": null,
   "metadata": {},
   "outputs": [],
   "source": [
    "data.head()"
   ]
  },
  {
   "cell_type": "code",
   "execution_count": null,
   "metadata": {},
   "outputs": [],
   "source": [
    "data.describe()"
   ]
  },
  {
   "cell_type": "code",
   "execution_count": null,
   "metadata": {},
   "outputs": [],
   "source": [
    "data.shape"
   ]
  },
  {
   "cell_type": "code",
   "execution_count": null,
   "metadata": {},
   "outputs": [],
   "source": [
    "data.info()"
   ]
  },
  {
   "cell_type": "code",
   "execution_count": null,
   "metadata": {},
   "outputs": [],
   "source": [
    "data.isna().sum()"
   ]
  },
  {
   "cell_type": "code",
   "execution_count": null,
   "metadata": {},
   "outputs": [],
   "source": [
    "# Function to plot a column grouped by year\n",
    "def plot_grouped_by_year(column_name):\n",
    "    plt.figure(figsize=(15, 5))\n",
    "    data.groupby('year')[column_name].mean().plot()\n",
    "    plt.xlabel(\"Year\")\n",
    "    plt.ylabel(column_name)\n",
    "    plt.title(f\"{column_name} by Year\")\n",
    "    plt.show()"
   ]
  },
  {
   "cell_type": "code",
   "execution_count": null,
   "metadata": {},
   "outputs": [],
   "source": [
    "plot_grouped_by_year('open')\n",
    "plot_grouped_by_year('close')\n",
    "plot_grouped_by_year('low')\n",
    "plot_grouped_by_year('high')\n",
    "plot_grouped_by_year('volume')\n"
   ]
  },
  {
   "cell_type": "code",
   "execution_count": null,
   "metadata": {},
   "outputs": [],
   "source": [
    "data = data.drop('year',axis=1)"
   ]
  },
  {
   "cell_type": "code",
   "execution_count": null,
   "metadata": {},
   "outputs": [],
   "source": [
    "data.columns"
   ]
  },
  {
   "cell_type": "code",
   "execution_count": null,
   "metadata": {},
   "outputs": [],
   "source": [
    "Adj_close_price = data[['close']]"
   ]
  },
  {
   "cell_type": "code",
   "execution_count": null,
   "metadata": {},
   "outputs": [],
   "source": [
    "max(Adj_close_price.values),min(Adj_close_price.values) "
   ]
  },
  {
   "cell_type": "code",
   "execution_count": null,
   "metadata": {},
   "outputs": [],
   "source": [
    "def prepare_data(data):\n",
    "    \"\"\"\n",
    "    Prepare data for LSTM model by creating sliding windows of features and labels.\n",
    "    \"\"\"\n",
    "    \n",
    "    # Scale the close prices\n",
    "    scaler = MinMaxScaler(feature_range=(0, 1))\n",
    "    data['close_scaled'] = scaler.fit_transform(data[['close']])\n",
    "    \n",
    "    # Create features and labels\n",
    "    features, labels = [], []\n",
    "    # Adjust loop to ensure valid indexing\n",
    "    for i in range(len(data) - 100):\n",
    "        features.append(data['close_scaled'].values[i:i + 100])\n",
    "        labels.append(data['close_scaled'].values[i + 100])\n",
    "    \n",
    "    return np.array(features), np.array(labels), scaler"
   ]
  },
  {
   "cell_type": "code",
   "execution_count": null,
   "metadata": {},
   "outputs": [],
   "source": [
    "def train_lstm_model(features, labels):\n",
    "    \"\"\"\n",
    "    Define, train, and return an LSTM model.\n",
    "    \"\"\"\n",
    "    # Reshape data for LSTM\n",
    "    features = features.reshape((features.shape[0], features.shape[1], 1))\n",
    "    \n",
    "    # Split data into training and testing sets\n",
    "    train_size = int(len(features) * 0.8)\n",
    "    X_train, X_test = features[:train_size], features[train_size:]\n",
    "    y_train, y_test = labels[:train_size], labels[train_size:]\n",
    "\n",
    "    # Define LSTM model\n",
    "    model = Sequential()\n",
    "    model.add(LSTM(128, return_sequences=True, input_shape=(X_train.shape[1], 1)))\n",
    "    model.add(LSTM(64, return_sequences=False))\n",
    "    model.add(Dense(25))\n",
    "    model.add(Dense(1))\n",
    "    \n",
    "    model.compile(optimizer='adam', loss='mse') \n",
    "    \n",
    "    # Train the model\n",
    "    print(\"Training the LSTM model...\")\n",
    "    model.fit(X_train, y_train, epochs=2, batch_size=32, verbose=1)\n",
    "    \n",
    "    # Display model summary\n",
    "    model.summary() \n",
    "    \n",
    "    return model, X_test, y_test\n"
   ]
  },
  {
   "cell_type": "code",
   "execution_count": null,
   "metadata": {},
   "outputs": [],
   "source": [
    "def evaluate_and_visualize(model, X_test, y_test, scaler):\n",
    "    \"\"\"\n",
    "    Generate predictions, evaluate metrics, and visualize results.\n",
    "    \"\"\"\n",
    "    predictions = model.predict(X_test)\n",
    "    \n",
    "    # Inverse scale predictions and actual values\n",
    "    predictions = scaler.inverse_transform(predictions)\n",
    "    y_test = scaler.inverse_transform(y_test.reshape(-1, 1))\n",
    "\n",
    "    # Evaluate metrics\n",
    "    mse = mean_squared_error(y_test, predictions)\n",
    "    mae = mean_absolute_error(y_test, predictions)\n",
    "    rmse = np.sqrt(mse)\n",
    "    r2 = r2_score(y_test, predictions)\n",
    "\n",
    "    print(f\"Mean Absolute Error (MAE): {mae}\")\n",
    "    print(f\"Mean Squared Error (MSE): {mse}\")\n",
    "    print(f\"Root Mean Squared Error (RMSE): {rmse}\")\n",
    "    print(f\"R² Score: {r2}\")"
   ]
  },
  {
   "cell_type": "code",
   "execution_count": null,
   "metadata": {},
   "outputs": [],
   "source": [
    "# Save the model\n",
    "def save_model(model, file_path=\"complete_train.keras\"):\n",
    "    \"\"\"\n",
    "    Save the trained model to a file.\n",
    "    \"\"\"\n",
    "    model.save(file_path)\n",
    "    print(f\"Model saved to {file_path}.\")\n"
   ]
  },
  {
   "cell_type": "code",
   "execution_count": null,
   "metadata": {},
   "outputs": [],
   "source": [
    "model_file = \"complete_train.keras\"\n",
    "\n",
    "if not data.empty:\n",
    "    # Prepare data for AI model\n",
    "    features, labels, scaler = prepare_data(data)\n",
    "\n",
    "    # Train LSTM model\n",
    "    model, X_test, y_test = train_lstm_model(features, labels)\n",
    "    \n",
    "\n",
    "    # Save the model\n",
    "    save_model(model, file_path=model_file)\n",
    "\n",
    "    # Evaluate and visualize results\n",
    "    evaluate_and_visualize(model, X_test, y_test, scaler)\n",
    "else:\n",
    "    print(\"Data not found or empty. Exiting...\")\n"
   ]
  },
  {
   "cell_type": "code",
   "execution_count": null,
   "metadata": {},
   "outputs": [],
   "source": []
  }
 ],
 "metadata": {
  "kernelspec": {
   "display_name": "Python 3",
   "language": "python",
   "name": "python3"
  },
  "language_info": {
   "codemirror_mode": {
    "name": "ipython",
    "version": 3
   },
   "file_extension": ".py",
   "mimetype": "text/x-python",
   "name": "python",
   "nbconvert_exporter": "python",
   "pygments_lexer": "ipython3",
   "version": "3.12.6"
  }
 },
 "nbformat": 4,
 "nbformat_minor": 2
}
