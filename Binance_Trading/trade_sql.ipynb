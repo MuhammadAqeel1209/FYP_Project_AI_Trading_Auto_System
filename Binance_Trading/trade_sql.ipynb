{
 "cells": [
  {
   "cell_type": "code",
   "execution_count": 1,
   "metadata": {},
   "outputs": [],
   "source": [
    "import pandas as pd \n",
    "from sqlalchemy import create_engine\n",
    "from binance.client import Client"
   ]
  },
  {
   "cell_type": "code",
   "execution_count": 2,
   "metadata": {},
   "outputs": [],
   "source": [
    "# Binance API keys\n",
    "API_KEY = '3KKoPw7y0uHyLzFVnwxu6gsXFQfBEDwnoLDpKjbh41UgvbB3LukYx0zhsG5l1xev'\n",
    "API_SECRET = 'PmJwK0lzZiQ5cCEW2aypB8Eska7bHiJ3gmOY6WyetmTm7C7FxCKBkfvYJR3Wzhky'"
   ]
  },
  {
   "cell_type": "code",
   "execution_count": 3,
   "metadata": {},
   "outputs": [],
   "source": [
    "client = Client(API_KEY,API_SECRET)"
   ]
  },
  {
   "cell_type": "code",
   "execution_count": 4,
   "metadata": {},
   "outputs": [],
   "source": [
    "# Fetch live candlestick data\n",
    "symbol = \"ADAUSDT\"\n",
    "interval = Client.KLINE_INTERVAL_1MINUTE  # 1-minute interval"
   ]
  },
  {
   "cell_type": "code",
   "execution_count": 5,
   "metadata": {},
   "outputs": [],
   "source": [
    "# Get historical klines (candlesticks)\n",
    "candlesticks = client.get_klines(symbol=symbol, interval=interval, limit=100)"
   ]
  },
  {
   "cell_type": "code",
   "execution_count": 6,
   "metadata": {},
   "outputs": [],
   "source": [
    "columns = [\n",
    "    \"Open Time\", \"Open\", \"High\", \"Low\", \"Close\", \"Volume\", \"Close Time\",\n",
    "    \"Quote Asset Volume\", \"Number of Trades\", \"Taker Buy Base Volume\",\n",
    "    \"Taker Buy Quote Volume\", \"Ignore\"\n",
    "]\n",
    "df = pd.DataFrame(candlesticks, columns=columns)\n"
   ]
  },
  {
   "cell_type": "code",
   "execution_count": 7,
   "metadata": {},
   "outputs": [
    {
     "name": "stdout",
     "output_type": "stream",
     "text": [
      "            Open Time        Open        High         Low       Close  \\\n",
      "0 2024-11-25 13:48:00  1.01530000  1.01780000  1.01520000  1.01740000   \n",
      "1 2024-11-25 13:49:00  1.01720000  1.01750000  1.01360000  1.01520000   \n",
      "2 2024-11-25 13:50:00  1.01520000  1.01590000  1.01410000  1.01590000   \n",
      "3 2024-11-25 13:51:00  1.01600000  1.02020000  1.01490000  1.01980000   \n",
      "4 2024-11-25 13:52:00  1.01960000  1.02010000  1.01840000  1.01890000   \n",
      "\n",
      "            Volume              Close Time Quote Asset Volume  \\\n",
      "0  189027.00000000 2024-11-25 13:48:59.999    192117.83858000   \n",
      "1  213363.90000000 2024-11-25 13:49:59.999    216642.71106000   \n",
      "2  178062.10000000 2024-11-25 13:50:59.999    180690.89170000   \n",
      "3  209277.80000000 2024-11-25 13:51:59.999    213034.64315000   \n",
      "4  187238.80000000 2024-11-25 13:52:59.999    190849.88134000   \n",
      "\n",
      "   Number of Trades Taker Buy Base Volume Taker Buy Quote Volume Ignore  \n",
      "0               391        62420.70000000         63464.51549000      0  \n",
      "1               653        89502.70000000         90830.55070000      0  \n",
      "2               662       118486.30000000        120232.22135000      0  \n",
      "3               573       163003.90000000        165918.32487000      0  \n",
      "4               609        80617.90000000         82164.23572000      0  \n"
     ]
    }
   ],
   "source": [
    "# Convert to DataFrame\n",
    "\n",
    "# Convert timestamps to readable format\n",
    "df[\"Open Time\"] = pd.to_datetime(df[\"Open Time\"], unit=\"ms\")\n",
    "df[\"Close Time\"] = pd.to_datetime(df[\"Close Time\"], unit=\"ms\")\n",
    "\n",
    "print(df.head())"
   ]
  },
  {
   "cell_type": "code",
   "execution_count": 8,
   "metadata": {},
   "outputs": [],
   "source": [
    "# Create SQLite engine\n",
    "engine = create_engine('sqlite:///binance_data.db')"
   ]
  },
  {
   "cell_type": "code",
   "execution_count": 9,
   "metadata": {},
   "outputs": [
    {
     "name": "stdout",
     "output_type": "stream",
     "text": [
      "Data stored in table 'adausdt_candlesticks'.\n"
     ]
    }
   ],
   "source": [
    "# Save DataFrame to SQL table\n",
    "table_name = \"adausdt_candlesticks\"\n",
    "df.to_sql(table_name, engine, if_exists=\"replace\", index=False)\n",
    "\n",
    "print(f\"Data stored in table '{table_name}'.\")"
   ]
  },
  {
   "cell_type": "code",
   "execution_count": 10,
   "metadata": {},
   "outputs": [
    {
     "name": "stdout",
     "output_type": "stream",
     "text": [
      "                     Open Time        Open        High         Low  \\\n",
      "0   2024-11-25 13:48:00.000000  1.01530000  1.01780000  1.01520000   \n",
      "1   2024-11-25 13:49:00.000000  1.01720000  1.01750000  1.01360000   \n",
      "2   2024-11-25 13:50:00.000000  1.01520000  1.01590000  1.01410000   \n",
      "3   2024-11-25 13:51:00.000000  1.01600000  1.02020000  1.01490000   \n",
      "4   2024-11-25 13:52:00.000000  1.01960000  1.02010000  1.01840000   \n",
      "..                         ...         ...         ...         ...   \n",
      "95  2024-11-25 15:23:00.000000  0.99570000  0.99870000  0.99340000   \n",
      "96  2024-11-25 15:24:00.000000  0.99850000  1.00120000  0.99820000   \n",
      "97  2024-11-25 15:25:00.000000  1.00110000  1.00280000  1.00050000   \n",
      "98  2024-11-25 15:26:00.000000  1.00230000  1.00510000  1.00080000   \n",
      "99  2024-11-25 15:27:00.000000  1.00350000  1.00370000  1.00230000   \n",
      "\n",
      "         Close           Volume                  Close Time  \\\n",
      "0   1.01740000  189027.00000000  2024-11-25 13:48:59.999000   \n",
      "1   1.01520000  213363.90000000  2024-11-25 13:49:59.999000   \n",
      "2   1.01590000  178062.10000000  2024-11-25 13:50:59.999000   \n",
      "3   1.01980000  209277.80000000  2024-11-25 13:51:59.999000   \n",
      "4   1.01890000  187238.80000000  2024-11-25 13:52:59.999000   \n",
      "..         ...              ...                         ...   \n",
      "95  0.99850000  240039.80000000  2024-11-25 15:23:59.999000   \n",
      "96  1.00120000  535012.10000000  2024-11-25 15:24:59.999000   \n",
      "97  1.00230000  482955.30000000  2024-11-25 15:25:59.999000   \n",
      "98  1.00370000  450465.40000000  2024-11-25 15:26:59.999000   \n",
      "99  1.00230000  210303.80000000  2024-11-25 15:27:59.999000   \n",
      "\n",
      "   Quote Asset Volume  Number of Trades Taker Buy Base Volume  \\\n",
      "0     192117.83858000               391        62420.70000000   \n",
      "1     216642.71106000               653        89502.70000000   \n",
      "2     180690.89170000               662       118486.30000000   \n",
      "3     213034.64315000               573       163003.90000000   \n",
      "4     190849.88134000               609        80617.90000000   \n",
      "..                ...               ...                   ...   \n",
      "95    239027.93048000               802       139297.00000000   \n",
      "96    535026.14581000               884       352730.50000000   \n",
      "97    483940.66509000               816       266921.60000000   \n",
      "98    451858.48586000              1158       197645.90000000   \n",
      "99    210967.84993000               355        66132.70000000   \n",
      "\n",
      "   Taker Buy Quote Volume Ignore  \n",
      "0          63464.51549000      0  \n",
      "1          90830.55070000      0  \n",
      "2         120232.22135000      0  \n",
      "3         165918.32487000      0  \n",
      "4          82164.23572000      0  \n",
      "..                    ...    ...  \n",
      "95        138690.11315000      0  \n",
      "96        352792.09226000      0  \n",
      "97        267464.07097000      0  \n",
      "98        198307.97380000      0  \n",
      "99         66347.48341000      0  \n",
      "\n",
      "[100 rows x 12 columns]\n"
     ]
    }
   ],
   "source": [
    "# Query data using SQL\n",
    "query = f\"SELECT * FROM {table_name} WHERE Volume > 1000\"\n",
    "\n",
    "# Fetch data from SQLite\n",
    "filtered_df = pd.read_sql(query, engine)\n",
    "print(filtered_df)"
   ]
  },
  {
   "cell_type": "code",
   "execution_count": null,
   "metadata": {},
   "outputs": [],
   "source": []
  }
 ],
 "metadata": {
  "kernelspec": {
   "display_name": "Python 3",
   "language": "python",
   "name": "python3"
  },
  "language_info": {
   "codemirror_mode": {
    "name": "ipython",
    "version": 3
   },
   "file_extension": ".py",
   "mimetype": "text/x-python",
   "name": "python",
   "nbconvert_exporter": "python",
   "pygments_lexer": "ipython3",
   "version": "3.12.6"
  }
 },
 "nbformat": 4,
 "nbformat_minor": 2
}
