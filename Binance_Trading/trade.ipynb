{
 "cells": [
  {
   "cell_type": "code",
   "execution_count": 1,
   "metadata": {},
   "outputs": [],
   "source": [
    "from binance.client import Client\n",
    "from binance.exceptions import BinanceAPIException, BinanceOrderException\n",
    "import time\n",
    "import logging\n"
   ]
  },
  {
   "cell_type": "code",
   "execution_count": 2,
   "metadata": {},
   "outputs": [],
   "source": [
    "# Trading configuration\n",
    "sell_limit, buy_limit = 97708, 99708\n",
    "trade_qty = 0.001\n",
    "SYMBOL = \"BTCUSDT\""
   ]
  },
  {
   "cell_type": "code",
   "execution_count": 3,
   "metadata": {},
   "outputs": [],
   "source": [
    "# Binance API keys\n",
    "API_KEY = '3KKoPw7y0uHyLzFVnwxu6gsXFQfBEDwnoLDpKjbh41UgvbB3LukYx0zhsG5l1xev'\n",
    "API_SECRET = 'PmJwK0lzZiQ5cCEW2aypB8Eska7bHiJ3gmOY6WyetmTm7C7FxCKBkfvYJR3Wzhky'"
   ]
  },
  {
   "cell_type": "code",
   "execution_count": 4,
   "metadata": {},
   "outputs": [],
   "source": [
    "# Set up logging\n",
    "logging.basicConfig(level=logging.INFO, format='%(asctime)s - %(message)s', filename='trading_bot.log')\n",
    "\n",
    "# Example of logging a message\n",
    "logging.info('This is an informational message.')"
   ]
  },
  {
   "cell_type": "code",
   "execution_count": 5,
   "metadata": {},
   "outputs": [
    {
     "name": "stdout",
     "output_type": "stream",
     "text": [
      "Binance client successfully initialized.\n"
     ]
    }
   ],
   "source": [
    "# Initialize Binance client\n",
    "try:\n",
    "    client = Client(API_KEY, API_SECRET)\n",
    "    # Test connectivity\n",
    "    client.ping()\n",
    "    print(\"Binance client successfully initialized.\")\n",
    "except BinanceAPIException as e:\n",
    "    logging.error(f\"Binance API Exception during initialization: {e}\")\n",
    "except Exception as e:\n",
    "    logging.error(f\"An error occurred while initializing the Binance client: {e}\")\n"
   ]
  },
  {
   "cell_type": "code",
   "execution_count": 6,
   "metadata": {},
   "outputs": [],
   "source": [
    "# Function to get the current price of a symbol\n",
    "def get_current_price(symbol):\n",
    "    try:\n",
    "        ticker = client.get_symbol_ticker(symbol=symbol)\n",
    "        return float(ticker['price'])\n",
    "    except BinanceAPIException as e:\n",
    "        # Log the Binance API exception silently\n",
    "        logging.error(f\"Failed to fetch ticker price for {symbol}: {e}\")\n",
    "        return None\n",
    "    except Exception as e:\n",
    "        # Log any other exception that occurs\n",
    "        logging.error(f\"Failed to fetch ticker price for {symbol}: {e}\")\n",
    "        return None"
   ]
  },
  {
   "cell_type": "code",
   "execution_count": 7,
   "metadata": {},
   "outputs": [],
   "source": [
    "# Function to place a market sell order\n",
    "def sell_order(symbol, qty):\n",
    "    try:\n",
    "        order = client.order_market_sell(symbol=symbol, quantity=qty)\n",
    "        print(f\"Market sell order placed: {order}\")\n",
    "    except BinanceAPIException as e:\n",
    "        # Log the Binance API exception silently\n",
    "        logging.error(f\"Binance API Exception while placing sell order for {symbol}: {e}\")\n",
    "    except BinanceOrderException as e:\n",
    "        logging.error(f\"Order Exception while placing sell order for {symbol}: {e}\")\n",
    "    except Exception as e:\n",
    "        logging.error(f\"An unexpected error occurred while placing sell order for {symbol}: {e}\")"
   ]
  },
  {
   "cell_type": "code",
   "execution_count": 8,
   "metadata": {},
   "outputs": [],
   "source": [
    "# Function to place a market buy order\n",
    "def buy_order(symbol, qty):\n",
    "    try:\n",
    "        order = client.order_market_buy(symbol=symbol, quantity=qty)\n",
    "        print(f\"Market buy order placed: {order}\")\n",
    "    except BinanceAPIException as e:\n",
    "        # Log the Binance API exception silently\n",
    "        logging.error(f\"Binance API Exception while placing buy order for {symbol}: {e}\")\n",
    "    except BinanceOrderException as e:\n",
    "        logging.error(f\"Order Exception while placing buy order for {symbol}: {e}\")\n",
    "    except Exception as e:\n",
    "        logging.error(f\"An unexpected error occurred while placing buy order for {symbol}: {e}\")\n"
   ]
  },
  {
   "cell_type": "code",
   "execution_count": 9,
   "metadata": {},
   "outputs": [],
   "source": [
    "def trading_bot():\n",
    "    i = 0\n",
    "    in_position = False\n",
    "    while True and i < 10:\n",
    "        current_price = get_current_price(SYMBOL)\n",
    "        if current_price:\n",
    "            print(f\"Current price of {SYMBOL}: {current_price}\")\n",
    "        if not in_position:\n",
    "            if current_price <= buy_limit:\n",
    "                print(f\"Price is below {buy_limit}. Placing buy order\")\n",
    "                buy_order(SYMBOL,trade_qty)\n",
    "                in_position = True\n",
    "        else:\n",
    "            if current_price >= sell_limit:\n",
    "                print(f\"Price is above {sell_limit}. Placing sell order\")\n",
    "                sell_order(SYMBOL,trade_qty)\n",
    "                in_position = False\n",
    "        i = i + 1\n",
    "        time.sleep(3)\n",
    "        "
   ]
  },
  {
   "cell_type": "code",
   "execution_count": 10,
   "metadata": {},
   "outputs": [
    {
     "name": "stdout",
     "output_type": "stream",
     "text": [
      "Current price of BTCUSDT: 92299.99\n",
      "Price is below 99708. Placing buy order\n",
      "Current price of BTCUSDT: 92264.02\n",
      "Current price of BTCUSDT: 92260.01\n",
      "Current price of BTCUSDT: 92284.02\n",
      "Current price of BTCUSDT: 92306.66\n",
      "Current price of BTCUSDT: 92347.7\n",
      "Current price of BTCUSDT: 92368.66\n",
      "Current price of BTCUSDT: 92374.69\n",
      "Current price of BTCUSDT: 92395.33\n",
      "Current price of BTCUSDT: 92402.07\n"
     ]
    }
   ],
   "source": [
    "trading_bot()"
   ]
  },
  {
   "cell_type": "code",
   "execution_count": null,
   "metadata": {},
   "outputs": [],
   "source": []
  }
 ],
 "metadata": {
  "kernelspec": {
   "display_name": "Python 3",
   "language": "python",
   "name": "python3"
  },
  "language_info": {
   "codemirror_mode": {
    "name": "ipython",
    "version": 3
   },
   "file_extension": ".py",
   "mimetype": "text/x-python",
   "name": "python",
   "nbconvert_exporter": "python",
   "pygments_lexer": "ipython3",
   "version": "3.12.6"
  }
 },
 "nbformat": 4,
 "nbformat_minor": 2
}
