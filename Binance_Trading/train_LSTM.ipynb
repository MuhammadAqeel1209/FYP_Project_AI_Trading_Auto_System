{
 "cells": [
  {
   "cell_type": "code",
   "execution_count": null,
   "metadata": {},
   "outputs": [],
   "source": [
    "import pandas as pd\n",
    "from keras.models import Sequential # type: ignore\n",
    "from keras.layers import LSTM, Dense, Dropout # type: ignore\n",
    "from keras.callbacks import EarlyStopping # type: ignore\n",
    "from keras.losses import Huber # type: ignore\n",
    "from sklearn.preprocessing import MinMaxScaler\n",
    "from sklearn.metrics import mean_squared_error, mean_absolute_error, r2_score\n",
    "import matplotlib.pyplot as plt\n",
    "import numpy as np"
   ]
  },
  {
   "cell_type": "code",
   "execution_count": null,
   "metadata": {},
   "outputs": [],
   "source": [
    "# Step 1: Load the dataset\n",
    "data = pd.read_csv('crypto_yearly_data.csv')"
   ]
  },
  {
   "cell_type": "code",
   "execution_count": null,
   "metadata": {},
   "outputs": [],
   "source": [
    "data.columns"
   ]
  },
  {
   "cell_type": "code",
   "execution_count": null,
   "metadata": {},
   "outputs": [],
   "source": [
    "data.head()"
   ]
  },
  {
   "cell_type": "code",
   "execution_count": null,
   "metadata": {},
   "outputs": [],
   "source": [
    "data.describe()"
   ]
  },
  {
   "cell_type": "code",
   "execution_count": null,
   "metadata": {},
   "outputs": [],
   "source": [
    "data.info()"
   ]
  },
  {
   "cell_type": "code",
   "execution_count": null,
   "metadata": {},
   "outputs": [],
   "source": [
    "data.isna().sum()"
   ]
  },
  {
   "cell_type": "code",
   "execution_count": null,
   "metadata": {},
   "outputs": [],
   "source": [
    "if 'year' in data.columns:\n",
    "    data = data.drop('year', axis=1)\n",
    "data.columns"
   ]
  },
  {
   "cell_type": "code",
   "execution_count": null,
   "metadata": {},
   "outputs": [],
   "source": [
    "# Data Preparation\n",
    "def prepare_data(data, window_size=100):\n",
    "    \"\"\"\n",
    "    Prepare data for LSTM model by creating sliding windows of features and labels.\n",
    "    \"\"\"\n",
    "    scaler = MinMaxScaler(feature_range=(0, 1))\n",
    "    data['close_scaled'] = scaler.fit_transform(data[['close']])\n",
    "    \n",
    "    # Create features and labels\n",
    "    features, labels = [], []\n",
    "    for i in range(len(data) - window_size):\n",
    "        features.append(data['close_scaled'].values[i:i + window_size])\n",
    "        labels.append(data['close_scaled'].values[i + window_size])\n",
    "    \n",
    "    return np.array(features), np.array(labels), scaler"
   ]
  },
  {
   "cell_type": "code",
   "execution_count": null,
   "metadata": {},
   "outputs": [],
   "source": [
    "def train_lstm_model(features, labels, epochs=20, batch_size=32):\n",
    "    \"\"\"\n",
    "    Define, train, and return an LSTM model.\n",
    "    \"\"\"\n",
    "    features = features.reshape((features.shape[0], features.shape[1], 1))\n",
    "    train_size = int(len(features) * 0.8)\n",
    "    X_train, X_test = features[:train_size], features[train_size:]\n",
    "    y_train, y_test = labels[:train_size], labels[train_size:]\n",
    "\n",
    "    # Define LSTM model\n",
    "    model = Sequential([\n",
    "        LSTM(128, return_sequences=True, input_shape=(X_train.shape[1], 1)),\n",
    "        Dropout(0.2),\n",
    "        LSTM(64, return_sequences=False),\n",
    "        Dropout(0.2),\n",
    "        Dense(50, activation='relu'),\n",
    "        Dense(1)\n",
    "    ])\n",
    "    \n",
    "    # Use Huber Loss\n",
    "    huber_loss = Huber(delta=1.0)\n",
    "    model.compile(optimizer='adam', loss=huber_loss)\n",
    "\n",
    "    # Early stopping to avoid overfitting\n",
    "    early_stopping = EarlyStopping(monitor='val_loss', patience=5, restore_best_weights=True)\n",
    "    \n",
    "    print(\"Training the LSTM model...\")\n",
    "    model.fit(X_train, y_train, epochs=epochs, batch_size=batch_size, \n",
    "              validation_split=0.1, verbose=1, callbacks=[early_stopping])\n",
    "    \n",
    "    return model, X_test, y_test\n"
   ]
  },
  {
   "cell_type": "code",
   "execution_count": null,
   "metadata": {},
   "outputs": [],
   "source": [
    "# Model Evaluation and Visualization\n",
    "def evaluate_and_visualize(model, X_test, y_test, scaler):\n",
    "    \"\"\"\n",
    "    Generate predictions, evaluate metrics, and visualize results.\n",
    "    \"\"\"\n",
    "    predictions = model.predict(X_test)\n",
    "    predictions = scaler.inverse_transform(predictions)\n",
    "    y_test = scaler.inverse_transform(y_test.reshape(-1, 1))\n",
    "\n",
    "    mse = mean_squared_error(y_test, predictions)\n",
    "    mae = mean_absolute_error(y_test, predictions)\n",
    "    rmse = np.sqrt(mse)\n",
    "    r2 = r2_score(y_test, predictions)\n",
    "\n",
    "    print(f\"Mean Absolute Error (MAE): {mae}\")\n",
    "    print(f\"Mean Squared Error (MSE): {mse}\")\n",
    "    print(f\"Root Mean Squared Error (RMSE): {rmse}\")\n",
    "    print(f\"R² Score: {r2}\")\n",
    "    \n",
    "    # Visualization\n",
    "    plt.figure(figsize=(12, 6))\n",
    "    plt.plot(y_test, label='True Values')\n",
    "    plt.plot(predictions, label='Predictions')\n",
    "    plt.legend()\n",
    "    plt.title(\"True vs Predicted Prices\")\n",
    "    plt.show()\n"
   ]
  },
  {
   "cell_type": "code",
   "execution_count": null,
   "metadata": {},
   "outputs": [],
   "source": [
    "# Save the Model\n",
    "def save_model(model, file_path=\"crypto_model.keras\"):\n",
    "    \"\"\"\n",
    "    Save the trained model to a file.\n",
    "    \"\"\"\n",
    "    model.save(file_path)\n",
    "    print(f\"Model saved to {file_path}.\")"
   ]
  },
  {
   "cell_type": "code",
   "execution_count": null,
   "metadata": {},
   "outputs": [],
   "source": [
    "if not data.empty:\n",
    "    # Prepare data\n",
    "    features, labels, scaler = prepare_data(data, window_size=100)\n",
    "    \n",
    "    # Train the LSTM model\n",
    "    model, X_test, y_test = train_lstm_model(features, labels, epochs=20, batch_size=32)\n",
    "    \n",
    "    # Save the model\n",
    "    save_model(model, file_path=\"crypto_model.keras\")\n",
    "    \n",
    "    # Evaluate and visualize results\n",
    "    evaluate_and_visualize(model, X_test, y_test, scaler)\n",
    "else:\n",
    "    print(\"Data not found or empty. Exiting...\")"
   ]
  },
  {
   "cell_type": "code",
   "execution_count": null,
   "metadata": {},
   "outputs": [],
   "source": []
  }
 ],
 "metadata": {
  "kernelspec": {
   "display_name": "Python 3",
   "language": "python",
   "name": "python3"
  },
  "language_info": {
   "codemirror_mode": {
    "name": "ipython",
    "version": 3
   },
   "file_extension": ".py",
   "mimetype": "text/x-python",
   "name": "python",
   "nbconvert_exporter": "python",
   "pygments_lexer": "ipython3",
   "version": "3.12.6"
  }
 },
 "nbformat": 4,
 "nbformat_minor": 2
}
