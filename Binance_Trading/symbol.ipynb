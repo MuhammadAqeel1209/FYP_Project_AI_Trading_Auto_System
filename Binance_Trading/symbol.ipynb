{
 "cells": [
  {
   "cell_type": "code",
   "execution_count": 1,
   "metadata": {},
   "outputs": [],
   "source": [
    "import pandas as pd\n",
    "from binance.client import Client"
   ]
  },
  {
   "cell_type": "code",
   "execution_count": 2,
   "metadata": {},
   "outputs": [],
   "source": [
    "# Binance API keys\n",
    "API_KEY = '3KKoPw7y0uHyLzFVnwxu6gsXFQfBEDwnoLDpKjbh41UgvbB3LukYx0zhsG5l1xev'\n",
    "API_SECRET = 'PmJwK0lzZiQ5cCEW2aypB8Eska7bHiJ3gmOY6WyetmTm7C7FxCKBkfvYJR3Wzhky'\n",
    "\n",
    "# Initialize Binance client\n",
    "client = Client(API_KEY, API_SECRET)\n"
   ]
  },
  {
   "cell_type": "code",
   "execution_count": 3,
   "metadata": {},
   "outputs": [
    {
     "name": "stdout",
     "output_type": "stream",
     "text": [
      "    Symbol Base Asset Quote Asset   Status\n",
      "0   ETHBTC        ETH         BTC  TRADING\n",
      "1   LTCBTC        LTC         BTC  TRADING\n",
      "2   BNBBTC        BNB         BTC  TRADING\n",
      "3   NEOBTC        NEO         BTC  TRADING\n",
      "4  QTUMETH       QTUM         ETH  TRADING\n",
      "Data saved to 'binance_trading_pairs.csv'\n"
     ]
    }
   ],
   "source": [
    "# Fetch all symbols from Binance\n",
    "try:\n",
    "    exchange_info = client.get_exchange_info()\n",
    "    symbols = exchange_info['symbols']\n",
    "\n",
    "    # Extract relevant data into a list of dictionaries\n",
    "    data = [\n",
    "        {\n",
    "            \"Symbol\": symbol_info['symbol'],\n",
    "            \"Base Asset\": symbol_info['baseAsset'],\n",
    "            \"Quote Asset\": symbol_info['quoteAsset'],\n",
    "            \"Status\": symbol_info['status'],  # e.g., TRADING, INACTIVE\n",
    "        }\n",
    "        for symbol_info in symbols\n",
    "    ]\n",
    "\n",
    "    # Create a DataFrame\n",
    "    df = pd.DataFrame(data)\n",
    "\n",
    "    # Display the first few rows\n",
    "    print(df.head())\n",
    "\n",
    "    # Optionally save to a CSV file\n",
    "    df.to_csv(\"binance_trading_pairs.csv\", index=False)\n",
    "    print(\"Data saved to 'binance_trading_pairs.csv'\")\n",
    "except Exception as e:\n",
    "    print(f\"Error fetching symbols: {e}\")\n"
   ]
  },
  {
   "cell_type": "code",
   "execution_count": null,
   "metadata": {},
   "outputs": [],
   "source": []
  }
 ],
 "metadata": {
  "kernelspec": {
   "display_name": "Python 3",
   "language": "python",
   "name": "python3"
  },
  "language_info": {
   "codemirror_mode": {
    "name": "ipython",
    "version": 3
   },
   "file_extension": ".py",
   "mimetype": "text/x-python",
   "name": "python",
   "nbconvert_exporter": "python",
   "pygments_lexer": "ipython3",
   "version": "3.12.6"
  }
 },
 "nbformat": 4,
 "nbformat_minor": 2
}
